{
 "cells": [
  {
   "cell_type": "code",
   "execution_count": 39,
   "metadata": {},
   "outputs": [],
   "source": [
    "import os\n",
    "import zipfile\n",
    "import pandas as pd\n",
    "import numpy as np\n",
    "import matplotlib.pyplot as plt\n",
    "import torch\n",
    "import torchvision\n",
    "import torch.nn.functional as F\n",
    "from PIL import Image, ImageFilter\n",
    "from sklearn.model_selection import train_test_split\n",
    "from torch import nn\n",
    "from torch.utils.data import Dataset, DataLoader\n",
    "from torchvision import transforms\n",
    "from pathlib import Path"
   ]
  },
  {
   "cell_type": "code",
   "execution_count": 40,
   "metadata": {},
   "outputs": [],
   "source": [
    "def unzip_dataset(INPATH, OUTPATH):\n",
    "    with zipfile.ZipFile(INPATH) as zf:\n",
    "        zf.extractall(OUTPATH)\n",
    "    \n",
    "unzip_dataset(INPATH = './train_data.zip', OUTPATH = './')\n",
    "unzip_dataset(INPATH = './test_data.zip', OUTPATH = './')"
   ]
  },
  {
   "cell_type": "code",
   "execution_count": 41,
   "metadata": {},
   "outputs": [],
   "source": [
    "train_dir = '../Casting_products_pytorch/train_data/'\n",
    "test_dir = '../Casting_products_pytorch/test_data/'\n",
    "train_df = pd.read_csv('../Casting_products_pytorch/train.csv')"
   ]
  },
  {
   "cell_type": "code",
   "execution_count": 42,
   "metadata": {},
   "outputs": [],
   "source": [
    "train_df, val_df = train_test_split(np.array(train_df), test_size=0.1)"
   ]
  },
  {
   "cell_type": "code",
   "execution_count": 43,
   "metadata": {},
   "outputs": [],
   "source": [
    "transform = torchvision.transforms.ToTensor()"
   ]
  },
  {
   "cell_type": "code",
   "execution_count": 44,
   "metadata": {},
   "outputs": [],
   "source": [
    "class Casting_products_Datasets(Dataset):\n",
    "    def __init__(self, dir_name, csv_file, transform):\n",
    "        self.dir_name = dir_name\n",
    "        self.csv_file = csv_file\n",
    "        self.transform = transform\n",
    "\n",
    "    def __len__(self):\n",
    "        return len(self.csv_file)\n",
    "    \n",
    "    def __getitem__(self, index):\n",
    "        file = self.csv_file[0][index]\n",
    "        label = torch.LongTensor(np.array([self.csv_file[index][1]]))\n",
    "        image = Image.open(self.dir_name + file)\n",
    "        image = self.transform(image)\n",
    "\n",
    "        return image, label"
   ]
  },
  {
   "cell_type": "code",
   "execution_count": 45,
   "metadata": {},
   "outputs": [],
   "source": [
    "train_dataset = Casting_products_Datasets(train_dir, train_df, transform)\n",
    "val_dataset = Casting_products_Datasets(train_dir, val_df, transform)"
   ]
  },
  {
   "cell_type": "code",
   "execution_count": 46,
   "metadata": {},
   "outputs": [],
   "source": [
    "batch_size = 32"
   ]
  },
  {
   "cell_type": "code",
   "execution_count": 47,
   "metadata": {},
   "outputs": [],
   "source": [
    "train_dataloader = DataLoader(train_dataset, batch_size=batch_size, shuffle=True)\n",
    "val_dataloader = DataLoader(val_dataset, batch_size=batch_size, shuffle=False)"
   ]
  },
  {
   "cell_type": "code",
   "execution_count": 49,
   "metadata": {},
   "outputs": [],
   "source": [
    "class Network(nn.Module):\n",
    "    def __init__(self):\n",
    "        super(Network, self).__init__()\n",
    "\n",
    "        self.conv1 = nn.Conv2d(in_channels=3, out_channels=12, kernel_size=5, stride=1, padding=1)\n",
    "        self.bn1 = nn.BatchNorm2d(12)\n",
    "        self.conv2 = nn.Conv2d(in_channels=12, out_channels=12, kernel_size=5, stride=1, padding=1)\n",
    "        self.bn2 = nn.BatchNorm2d(num_features=12)\n",
    "        self.pool = nn.MaxPool2d(2, 2)\n",
    "        self.conv4 = nn.Conv2d(in_channels=12, out_channels=24, kernel_size=5, stride=1, padding=1)\n",
    "        self.bn4 = nn.BatchNorm2d(num_features=24)\n",
    "        self.conv5 = nn.Conv2d(in_channels=24, out_channels=24, kernel_size=5, stride=1, padding=1)\n",
    "        self.bn5 = nn.BatchNorm2d(num_features=24)\n",
    "        self.fc1 = nn.Linear(24*10*10, 2)\n",
    "    \n",
    "    def forward(self, input):\n",
    "        \n",
    "        output = F.relu(self.bn1(self.conv1(input)))\n",
    "        output = F.relu(self.bn2(self.conv2(output)))\n",
    "        output = self.pool(output)\n",
    "        output = F.relu(self.bn4(self.conv4(output)))\n",
    "        output = F.relu(self.bn5(self.conv5(output)))\n",
    "        output = output.view(-1, 24*10*10)\n",
    "        output = self.fc1(output)\n",
    "\n",
    "        return output\n",
    "    \n",
    "model = Network()\n"
   ]
  },
  {
   "cell_type": "code",
   "execution_count": null,
   "metadata": {},
   "outputs": [],
   "source": []
  }
 ],
 "metadata": {
  "interpreter": {
   "hash": "4fcf79c33207d68f8e9e67e93bec9bc289b93b0566805e98bf31d2d063211adb"
  },
  "kernelspec": {
   "display_name": "Python 3.8.10 64-bit ('data': venv)",
   "language": "python",
   "name": "python3"
  },
  "language_info": {
   "codemirror_mode": {
    "name": "ipython",
    "version": 3
   },
   "file_extension": ".py",
   "mimetype": "text/x-python",
   "name": "python",
   "nbconvert_exporter": "python",
   "pygments_lexer": "ipython3",
   "version": "3.8.10"
  },
  "orig_nbformat": 4
 },
 "nbformat": 4,
 "nbformat_minor": 2
}
