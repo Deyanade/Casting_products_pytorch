{
 "cells": [
  {
   "cell_type": "code",
   "execution_count": 2,
   "metadata": {},
   "outputs": [
    {
     "name": "stderr",
     "output_type": "stream",
     "text": [
      "2022-02-13 11:30:59.350237: W tensorflow/stream_executor/platform/default/dso_loader.cc:64] Could not load dynamic library 'libcudart.so.11.0'; dlerror: libcudart.so.11.0: cannot open shared object file: No such file or directory; LD_LIBRARY_PATH: /home/shinya/DataScience/data/lib/python3.8/site-packages/cv2/../../lib64:\n",
      "2022-02-13 11:30:59.350299: I tensorflow/stream_executor/cuda/cudart_stub.cc:29] Ignore above cudart dlerror if you do not have a GPU set up on your machine.\n"
     ]
    }
   ],
   "source": [
    "import os\n",
    "import zipfile\n",
    "import pandas as pd\n",
    "import cv2\n",
    "import numpy as np\n",
    "import matplotlib.pyplot as plt\n",
    "import torch\n",
    "import torchvision\n",
    "import tensorflow_addons as tfa\n",
    "from PIL import Image, ImageFilter\n",
    "from tqdm import tqdm\n",
    "from tqdm.notebook import tqdm\n",
    "from sklearn.model_selection import train_test_split\n",
    "from torch import nn\n",
    "from torch import optim\n",
    "from torch.utils.data import Dataset, DataLoader\n",
    "from torchvision import transforms\n",
    "from pathlib import Path"
   ]
  },
  {
   "cell_type": "code",
   "execution_count": 464,
   "metadata": {},
   "outputs": [],
   "source": [
    "def unzip_dataset(INPATH, OUTPATH):\n",
    "    with zipfile.ZipFile(INPATH) as zf:\n",
    "        zf.extractall(OUTPATH)\n",
    "    \n",
    "unzip_dataset(INPATH = './train_data.zip', OUTPATH = './')\n",
    "unzip_dataset(INPATH = './test_data.zip', OUTPATH = './')"
   ]
  },
  {
   "cell_type": "code",
   "execution_count": 465,
   "metadata": {},
   "outputs": [],
   "source": [
    "train_dir = '../Casting_products_pytorch/train_data/'\n",
    "test_dir = '../Casting_products_pytorch/test_data/'\n",
    "train_df = pd.read_csv('../Casting_products_pytorch/train.csv')"
   ]
  },
  {
   "cell_type": "code",
   "execution_count": 466,
   "metadata": {},
   "outputs": [],
   "source": [
    "train_df, val_df = train_test_split(np.array(train_df), test_size=0.1)"
   ]
  },
  {
   "cell_type": "code",
   "execution_count": 469,
   "metadata": {},
   "outputs": [],
   "source": [
    "transform = torchvision.transforms.ToTensor()"
   ]
  },
  {
   "cell_type": "code",
   "execution_count": 470,
   "metadata": {},
   "outputs": [],
   "source": [
    "class Casting_products_Datasets(Dataset):\n",
    "    def __init__(self, dir_name, csv_file, transform):\n",
    "        self.dir_name = dir_name\n",
    "        self.csv_file = csv_file\n",
    "        self.transform = transform\n",
    "\n",
    "    def __len__(self):\n",
    "        return len(self.csv_file)\n",
    "    \n",
    "    def __getitem__(self, index):\n",
    "        file = self.csv_file[0][index]\n",
    "        label = torch.LongTensor(np.array([self.csv_file[index][1]]))\n",
    "        image = Image.open(self.dir_name + file)\n",
    "        image = self.transform(image)\n",
    "\n",
    "        return image, label"
   ]
  },
  {
   "cell_type": "code",
   "execution_count": 471,
   "metadata": {},
   "outputs": [],
   "source": [
    "train_dataset = Casting_products_Datasets(train_dir, train_df, transform)\n",
    "val_dataset = Casting_products_Datasets(train_dir, val_df, transform)"
   ]
  },
  {
   "cell_type": "code",
   "execution_count": 472,
   "metadata": {},
   "outputs": [
    {
     "name": "stdout",
     "output_type": "stream",
     "text": [
      "torch.Size([3, 300, 300]) torch.Size([1])\n",
      "tensor([[[0.6706, 0.6706, 0.6706,  ..., 0.5804, 0.5765, 0.5725],\n",
      "         [0.6667, 0.6667, 0.6706,  ..., 0.5804, 0.5765, 0.5725],\n",
      "         [0.6627, 0.6627, 0.6667,  ..., 0.5804, 0.5725, 0.5686],\n",
      "         ...,\n",
      "         [0.7098, 0.7098, 0.7059,  ..., 0.6039, 0.6039, 0.6039],\n",
      "         [0.7098, 0.7098, 0.7059,  ..., 0.6000, 0.6000, 0.6000],\n",
      "         [0.7098, 0.7098, 0.7059,  ..., 0.5922, 0.5922, 0.5922]],\n",
      "\n",
      "        [[0.6706, 0.6706, 0.6706,  ..., 0.5804, 0.5765, 0.5725],\n",
      "         [0.6667, 0.6667, 0.6706,  ..., 0.5804, 0.5765, 0.5725],\n",
      "         [0.6627, 0.6627, 0.6667,  ..., 0.5804, 0.5725, 0.5686],\n",
      "         ...,\n",
      "         [0.7098, 0.7098, 0.7059,  ..., 0.6039, 0.6039, 0.6039],\n",
      "         [0.7098, 0.7098, 0.7059,  ..., 0.6000, 0.6000, 0.6000],\n",
      "         [0.7098, 0.7098, 0.7059,  ..., 0.5922, 0.5922, 0.5922]],\n",
      "\n",
      "        [[0.6706, 0.6706, 0.6706,  ..., 0.5804, 0.5765, 0.5725],\n",
      "         [0.6667, 0.6667, 0.6706,  ..., 0.5804, 0.5765, 0.5725],\n",
      "         [0.6627, 0.6627, 0.6667,  ..., 0.5804, 0.5725, 0.5686],\n",
      "         ...,\n",
      "         [0.7098, 0.7098, 0.7059,  ..., 0.6039, 0.6039, 0.6039],\n",
      "         [0.7098, 0.7098, 0.7059,  ..., 0.6000, 0.6000, 0.6000],\n",
      "         [0.7098, 0.7098, 0.7059,  ..., 0.5922, 0.5922, 0.5922]]]) tensor([0])\n"
     ]
    }
   ],
   "source": [
    "a, b = train_dataset[0]\n",
    "print(a.size(), b.size())\n",
    "print(a, b)"
   ]
  },
  {
   "cell_type": "code",
   "execution_count": 473,
   "metadata": {},
   "outputs": [],
   "source": [
    "batch_size = 32"
   ]
  },
  {
   "cell_type": "code",
   "execution_count": 474,
   "metadata": {},
   "outputs": [],
   "source": [
    "train_dataloader = DataLoader(train_dataset, batch_size=batch_size, shuffle=True)\n",
    "val_dataloader = DataLoader(val_dataset, batch_size=batch_size, shuffle=False)"
   ]
  }
 ],
 "metadata": {
  "interpreter": {
   "hash": "4fcf79c33207d68f8e9e67e93bec9bc289b93b0566805e98bf31d2d063211adb"
  },
  "kernelspec": {
   "display_name": "Python 3.8.10 64-bit ('data': venv)",
   "language": "python",
   "name": "python3"
  },
  "language_info": {
   "codemirror_mode": {
    "name": "ipython",
    "version": 3
   },
   "file_extension": ".py",
   "mimetype": "text/x-python",
   "name": "python",
   "nbconvert_exporter": "python",
   "pygments_lexer": "ipython3",
   "version": "3.8.10"
  },
  "orig_nbformat": 4
 },
 "nbformat": 4,
 "nbformat_minor": 2
}
