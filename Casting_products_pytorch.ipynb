{
 "cells": [
  {
   "cell_type": "code",
   "execution_count": 6,
   "metadata": {},
   "outputs": [],
   "source": [
    "import os\n",
    "import zipfile\n",
    "import pandas as pd\n",
    "import numpy as np\n",
    "import matplotlib.pyplot as plt\n",
    "import torch\n",
    "import torchvision\n",
    "import torch.optim as optim\n",
    "import torch.nn.functional as F\n",
    "import time\n",
    "\n",
    "from PIL import Image, ImageFilter\n",
    "from sklearn.model_selection import train_test_split\n",
    "from torch import nn\n",
    "from torch.optim import Adam\n",
    "from torch.utils.data import Dataset, DataLoader\n",
    "from torch.autograd import Variable\n",
    "from torchvision import transforms\n",
    "from pathlib import Path\n",
    "from tqdm import tqdm\n",
    "from sklearn.metrics import cohen_kappa_score"
   ]
  },
  {
   "cell_type": "code",
   "execution_count": 7,
   "metadata": {},
   "outputs": [],
   "source": [
    "def unzip_dataset(INPATH, OUTPATH):\n",
    "    with zipfile.ZipFile(INPATH) as zf:\n",
    "        zf.extractall(OUTPATH)\n",
    "    \n",
    "unzip_dataset(INPATH = './train_data.zip', OUTPATH = './')\n",
    "unzip_dataset(INPATH = './test_data.zip', OUTPATH = './')"
   ]
  },
  {
   "cell_type": "code",
   "execution_count": 8,
   "metadata": {},
   "outputs": [],
   "source": [
    "train_dir = '../Casting_products_pytorch/train_data/'\n",
    "test_dir = '../Casting_products_pytorch/test_data/'\n",
    "train_df = pd.read_csv('../Casting_products_pytorch/train.csv')"
   ]
  },
  {
   "cell_type": "code",
   "execution_count": 9,
   "metadata": {},
   "outputs": [],
   "source": [
    "train_df, val_df = train_test_split(np.array(train_df), test_size=0.1)"
   ]
  },
  {
   "cell_type": "code",
   "execution_count": 10,
   "metadata": {},
   "outputs": [],
   "source": [
    "transform = torchvision.transforms.ToTensor()"
   ]
  },
  {
   "cell_type": "code",
   "execution_count": 11,
   "metadata": {},
   "outputs": [],
   "source": [
    "class Casting_products_Datasets(Dataset):\n",
    "    def __init__(self, dir_name, csv_file, transform=None):\n",
    "        self.dir_name = dir_name\n",
    "        self.csv_file = csv_file\n",
    "        self.transform = transform\n",
    "\n",
    "    def __len__(self):\n",
    "        return len(self.csv_file)\n",
    "    \n",
    "    def __getitem__(self, index):\n",
    "        file = self.csv_file[index][0]\n",
    "        label = np.array([self.csv_file[index][1]], np.float32)\n",
    "        image = Image.open(self.dir_name + file)\n",
    "        image = self.transform(image)\n",
    "\n",
    "        return image, label"
   ]
  },
  {
   "cell_type": "code",
   "execution_count": 12,
   "metadata": {},
   "outputs": [],
   "source": [
    "train_dataset = Casting_products_Datasets(train_dir, train_df, transform)\n",
    "val_dataset = Casting_products_Datasets(train_dir, val_df, transform)"
   ]
  },
  {
   "cell_type": "code",
   "execution_count": 13,
   "metadata": {},
   "outputs": [],
   "source": [
    "batch_size = 25"
   ]
  },
  {
   "cell_type": "code",
   "execution_count": 14,
   "metadata": {},
   "outputs": [],
   "source": [
    "train_dataloader = DataLoader(train_dataset, batch_size=batch_size, shuffle=True, drop_last=True)\n",
    "val_dataloader = DataLoader(val_dataset, batch_size=batch_size, shuffle=False, drop_last=True)"
   ]
  },
  {
   "cell_type": "code",
   "execution_count": 15,
   "metadata": {},
   "outputs": [],
   "source": [
    "class EarlyStopping:\n",
    "\n",
    "    def __init__(self, patience=5, verbose=False, path='../Casting_products_pytorch/checkpoint_model.pth'):\n",
    "\n",
    "        self.patience = patience\n",
    "        self.verbose = verbose\n",
    "        self.counter = 0\n",
    "        self.best_score = None\n",
    "        self.early_stop = False\n",
    "        self.val_loss_min = np.inf\n",
    "        self.path = path\n",
    "    \n",
    "    def __call__(self, val_loss, model):\n",
    "\n",
    "        score = -val_loss\n",
    "\n",
    "        if self.best_score is None:\n",
    "            self.best_score = score\n",
    "            self.checkpoint(val_loss, model)\n",
    "        elif score < self.best_score:\n",
    "            self.counter += 1\n",
    "            if self.verbose:\n",
    "                print(f'  EarlyStopping counter: {self.counter} out of {self.patience}')\n",
    "            if self.counter >= self.patience:\n",
    "                self.early_stop = True\n",
    "        else:\n",
    "            self.best_score = score\n",
    "            self.checkpoint(val_loss, model)\n",
    "            self.counter = 0\n",
    "    \n",
    "    def checkpoint(self, val_loss, model):\n",
    "        if self.verbose:\n",
    "            print(f'  Validation loss decreased ({self.val_loss_min:.6f} --> {val_loss:.6f}). Saving model ...')\n",
    "        torch.save(model.state_dict(), self.path)\n",
    "        self.val_loss_min = val_loss\n",
    "                "
   ]
  },
  {
   "cell_type": "code",
   "execution_count": 16,
   "metadata": {},
   "outputs": [],
   "source": [
    "class Network(nn.Module):\n",
    "    def __init__(self):\n",
    "        \n",
    "        super(Network, self).__init__()\n",
    "\n",
    "        self.conv1 = nn.Conv2d(in_channels=3, out_channels=12, kernel_size=5, stride=1, padding=1)\n",
    "        self.bn1 = nn.BatchNorm2d(12)\n",
    "        self.conv2 = nn.Conv2d(in_channels=12, out_channels=12, kernel_size=5, stride=1, padding=1)\n",
    "        self.bn2 = nn.BatchNorm2d(num_features=12)\n",
    "        self.pool = nn.MaxPool2d(2, 2)\n",
    "        self.conv4 = nn.Conv2d(in_channels=12, out_channels=24, kernel_size=5, stride=1, padding=1)\n",
    "        self.bn4 = nn.BatchNorm2d(num_features=24)\n",
    "        self.conv5 = nn.Conv2d(in_channels=24, out_channels=24, kernel_size=5, stride=1, padding=1)\n",
    "        self.bn5 = nn.BatchNorm2d(num_features=24)\n",
    "        self.fc1 = nn.Linear(24*71*71, 128)\n",
    "        self.fc2 = nn.Linear(128, 48)\n",
    "        self.fc3 = nn.Linear(48, 1)\n",
    "    \n",
    "    def forward(self, x):\n",
    "        \n",
    "        x = F.relu(self.bn1(self.conv1(x)))\n",
    "        x = F.relu(self.bn2(self.conv2(x)))\n",
    "        x = self.pool(x)\n",
    "        x = F.relu(self.bn4(self.conv4(x)))\n",
    "        x = self.pool(x)\n",
    "        x = F.relu(self.bn5(self.conv5(x)))\n",
    "        x = x.view(-1, 24*71*71)\n",
    "        x = F.relu(self.fc1(x))\n",
    "        x = F.relu(self.fc2(x))\n",
    "        x = torch.sigmoid(self.fc3(x))\n",
    "\n",
    "        return x\n",
    "    \n",
    "model = Network()"
   ]
  },
  {
   "cell_type": "code",
   "execution_count": 17,
   "metadata": {},
   "outputs": [],
   "source": [
    "lr = 1e-4\n",
    "criterion = nn.BCELoss()\n",
    "optimizer = Adam(model.parameters(), lr=lr)"
   ]
  },
  {
   "cell_type": "code",
   "execution_count": 18,
   "metadata": {},
   "outputs": [],
   "source": [
    "train_images, train_labels = iter(train_dataloader).next()\n",
    "val_images, val_labels = iter(val_dataloader).next()"
   ]
  },
  {
   "cell_type": "code",
   "execution_count": 19,
   "metadata": {},
   "outputs": [],
   "source": [
    "earlystopping = EarlyStopping(patience=5, verbose=True)"
   ]
  },
  {
   "cell_type": "code",
   "execution_count": 20,
   "metadata": {},
   "outputs": [],
   "source": [
    "def train(train_dataloader):\n",
    "\n",
    "    model.train()\n",
    "    running_loss = 0\n",
    "    \n",
    "    for train_images, train_labels in train_dataloader:\n",
    "        optimizer.zero_grad()\n",
    "        y_preds = model(train_images)\n",
    "        loss = criterion(y_preds, train_labels)\n",
    "        running_loss += loss.item()\n",
    "        loss.backward()\n",
    "        optimizer.step()\n",
    "    train_loss = running_loss / len(train_dataloader)\n",
    "    \n",
    "    return train_loss\n",
    "\n",
    "def val(val_dataloader):\n",
    "    model.eval()\n",
    "    running_loss = 0\n",
    "    correct = 0\n",
    "    total = 0\n",
    "    with torch.no_grad():\n",
    "        for val_images, val_labels in val_dataloader:\n",
    "            y_preds = model(val_images)\n",
    "            loss = criterion(y_preds, val_labels)\n",
    "            running_loss += loss.item()\n",
<<<<<<< HEAD
    "            result = torch.round(y_preds)\n",
=======
    "            result = torch.round(y_pred)\n",
>>>>>>> refs/remotes/origin/master
    "            correct += torch.sum(result == val_labels) * 1.0\n",
    "            total += val_labels.size(0)\n",
    "    val_loss = running_loss / len(val_dataloader)\n",
    "    val_acc = correct / total\n",
    "\n",
    "    return val_loss, val_acc"
   ]
  },
  {
   "cell_type": "code",
   "execution_count": 21,
   "metadata": {},
   "outputs": [],
   "source": [
    "record_loss_train = []\n",
    "record_loss_val = []\n",
    "record_acc_val =[]\n",
    "num_epochs = 50"
   ]
  },
  {
   "cell_type": "code",
   "execution_count": 22,
   "metadata": {},
   "outputs": [
    {
     "name": "stdout",
     "output_type": "stream",
     "text": [
      "epoch 0, loss: 0.5794 ...  val_loss: 0.6806 ...  val_acc: 0.5600\n",
      "  Validation loss decreased (inf --> 0.680624). Saving model ...\n",
      "epoch 1, loss: 0.2939 ...  val_loss: 0.8107 ...  val_acc: 0.5600\n",
      "  EarlyStopping counter: 1 out of 5\n",
      "epoch 2, loss: 0.2098 ...  val_loss: 0.6727 ...  val_acc: 0.5600\n",
      "  Validation loss decreased (0.680624 --> 0.672707). Saving model ...\n",
      "epoch 3, loss: 0.1548 ...  val_loss: 0.7330 ...  val_acc: 0.6000\n",
      "  EarlyStopping counter: 1 out of 5\n",
      "epoch 4, loss: 0.0933 ...  val_loss: 0.7317 ...  val_acc: 0.6400\n",
      "  EarlyStopping counter: 2 out of 5\n",
      "epoch 5, loss: 0.0566 ...  val_loss: 0.9559 ...  val_acc: 0.6400\n",
      "  EarlyStopping counter: 3 out of 5\n",
      "epoch 6, loss: 0.0553 ...  val_loss: 0.3912 ...  val_acc: 0.8400\n",
      "  Validation loss decreased (0.672707 --> 0.391195). Saving model ...\n",
      "epoch 7, loss: 0.0219 ...  val_loss: 0.3871 ...  val_acc: 0.8800\n",
      "  Validation loss decreased (0.391195 --> 0.387066). Saving model ...\n",
      "epoch 8, loss: 0.0130 ...  val_loss: 0.4541 ...  val_acc: 0.8400\n",
      "  EarlyStopping counter: 1 out of 5\n",
      "epoch 9, loss: 0.0115 ...  val_loss: 0.4567 ...  val_acc: 0.8800\n",
      "  EarlyStopping counter: 2 out of 5\n",
      "epoch 10, loss: 0.0114 ...  val_loss: 0.5203 ...  val_acc: 0.8400\n",
      "  EarlyStopping counter: 3 out of 5\n",
      "epoch 11, loss: 0.0050 ...  val_loss: 0.4888 ...  val_acc: 0.8800\n",
      "  EarlyStopping counter: 4 out of 5\n",
      "epoch 12, loss: 0.0052 ...  val_loss: 0.5333 ...  val_acc: 0.8800\n",
      "  EarlyStopping counter: 5 out of 5\n",
      "Early Stopping!\n"
     ]
    }
   ],
   "source": [
    "for epoch in range(num_epochs):\n",
    "    loss= train(train_dataloader)\n",
    "    val_loss, val_acc = val(val_dataloader)\n",
    "    print('epoch %d, loss: %.4f ...  val_loss: %.4f ...  val_acc: %.4f' % (epoch, loss, val_loss, val_acc))\n",
    "    record_loss_train.append(loss)\n",
    "    record_loss_val.append(val_loss)\n",
    "    record_acc_val.append(val_acc)\n",
    "\n",
    "    earlystopping(val_loss, model)\n",
    "    if earlystopping.early_stop:\n",
    "        print(\"Early Stopping!\")\n",
    "        break"
   ]
  },
  {
   "cell_type": "code",
   "execution_count": 23,
   "metadata": {},
   "outputs": [
    {
     "data": {
      "text/plain": [
       "<All keys matched successfully>"
      ]
     },
     "execution_count": 23,
     "metadata": {},
     "output_type": "execute_result"
    }
   ],
   "source": [
    "model.load_state_dict(torch.load('../Casting_products_pytorch/checkpoint_model.pth'))"
   ]
  },
  {
   "cell_type": "code",
   "execution_count": 24,
   "metadata": {},
   "outputs": [
    {
     "data": {
      "image/png": "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",
      "text/plain": [
       "<Figure size 432x288 with 1 Axes>"
      ]
     },
     "metadata": {
      "needs_background": "light"
     },
     "output_type": "display_data"
    }
   ],
   "source": [
    "plt.plot(range(len(record_loss_train)), record_loss_train, label=\"Train\")\n",
    "plt.plot(range(len(record_loss_val)), record_loss_val, label=\"Test\")\n",
    "plt.legend()\n",
    "\n",
    "plt.xlabel(\"Epochs\")\n",
    "plt.ylabel(\"Error\")\n",
    "plt.show()"
   ]
  },
  {
   "cell_type": "code",
   "execution_count": 25,
   "metadata": {},
   "outputs": [],
   "source": [
    "sample_submission_df = pd.read_csv('sample_submission.csv', header = None)"
   ]
  },
  {
   "cell_type": "code",
   "execution_count": 26,
   "metadata": {},
   "outputs": [],
   "source": [
    "sample_submission_dataset = Casting_products_Datasets(sample_submission_df, transform)"
   ]
  },
  {
   "cell_type": "code",
   "execution_count": 27,
   "metadata": {},
   "outputs": [],
   "source": [
    "sample_submission_dataloader = DataLoader(sample_submission_dataset, batch_size=1, shuffle=False)"
   ]
  },
  {
   "cell_type": "code",
   "execution_count": 28,
   "metadata": {},
   "outputs": [
    {
     "ename": "TypeError",
     "evalue": "object of type 'ToTensor' has no len()",
     "output_type": "error",
     "traceback": [
      "\u001b[0;31m---------------------------------------------------------------------------\u001b[0m",
      "\u001b[0;31mTypeError\u001b[0m                                 Traceback (most recent call last)",
      "\u001b[0;32m/tmp/ipykernel_23694/3814338234.py\u001b[0m in \u001b[0;36m<module>\u001b[0;34m\u001b[0m\n\u001b[1;32m      1\u001b[0m \u001b[0mpred\u001b[0m \u001b[0;34m=\u001b[0m \u001b[0;34m[\u001b[0m\u001b[0;34m]\u001b[0m\u001b[0;34m\u001b[0m\u001b[0;34m\u001b[0m\u001b[0m\n\u001b[0;32m----> 2\u001b[0;31m \u001b[0;32mfor\u001b[0m \u001b[0mimage_id\u001b[0m\u001b[0;34m,\u001b[0m \u001b[0mimages\u001b[0m \u001b[0;32min\u001b[0m \u001b[0menumerate\u001b[0m\u001b[0;34m(\u001b[0m\u001b[0msample_submission_dataloader\u001b[0m\u001b[0;34m)\u001b[0m\u001b[0;34m:\u001b[0m\u001b[0;34m\u001b[0m\u001b[0;34m\u001b[0m\u001b[0m\n\u001b[0m\u001b[1;32m      3\u001b[0m     \u001b[0my_preds\u001b[0m \u001b[0;34m=\u001b[0m \u001b[0mmodel\u001b[0m\u001b[0;34m(\u001b[0m\u001b[0mimages\u001b[0m\u001b[0;34m)\u001b[0m\u001b[0;34m\u001b[0m\u001b[0;34m\u001b[0m\u001b[0m\n\u001b[1;32m      4\u001b[0m     \u001b[0m_\u001b[0m\u001b[0;34m,\u001b[0m \u001b[0my_preds_labels\u001b[0m \u001b[0;34m=\u001b[0m \u001b[0mnp\u001b[0m\u001b[0;34m.\u001b[0m\u001b[0mround\u001b[0m\u001b[0;34m(\u001b[0m\u001b[0my_preds\u001b[0m\u001b[0;34m)\u001b[0m\u001b[0;34m\u001b[0m\u001b[0;34m\u001b[0m\u001b[0m\n\u001b[1;32m      5\u001b[0m     \u001b[0mpred\u001b[0m\u001b[0;34m.\u001b[0m\u001b[0mextend\u001b[0m\u001b[0;34m(\u001b[0m\u001b[0my_preds\u001b[0m\u001b[0;34m.\u001b[0m\u001b[0mnumpy\u001b[0m\u001b[0;34m(\u001b[0m\u001b[0;34m)\u001b[0m\u001b[0;34m)\u001b[0m\u001b[0;34m\u001b[0m\u001b[0;34m\u001b[0m\u001b[0m\n",
      "\u001b[0;32m~/DataScience/data/lib/python3.8/site-packages/torch/utils/data/dataloader.py\u001b[0m in \u001b[0;36m__next__\u001b[0;34m(self)\u001b[0m\n\u001b[1;32m    519\u001b[0m             \u001b[0;32mif\u001b[0m \u001b[0mself\u001b[0m\u001b[0;34m.\u001b[0m\u001b[0m_sampler_iter\u001b[0m \u001b[0;32mis\u001b[0m \u001b[0;32mNone\u001b[0m\u001b[0;34m:\u001b[0m\u001b[0;34m\u001b[0m\u001b[0;34m\u001b[0m\u001b[0m\n\u001b[1;32m    520\u001b[0m                 \u001b[0mself\u001b[0m\u001b[0;34m.\u001b[0m\u001b[0m_reset\u001b[0m\u001b[0;34m(\u001b[0m\u001b[0;34m)\u001b[0m\u001b[0;34m\u001b[0m\u001b[0;34m\u001b[0m\u001b[0m\n\u001b[0;32m--> 521\u001b[0;31m             \u001b[0mdata\u001b[0m \u001b[0;34m=\u001b[0m \u001b[0mself\u001b[0m\u001b[0;34m.\u001b[0m\u001b[0m_next_data\u001b[0m\u001b[0;34m(\u001b[0m\u001b[0;34m)\u001b[0m\u001b[0;34m\u001b[0m\u001b[0;34m\u001b[0m\u001b[0m\n\u001b[0m\u001b[1;32m    522\u001b[0m             \u001b[0mself\u001b[0m\u001b[0;34m.\u001b[0m\u001b[0m_num_yielded\u001b[0m \u001b[0;34m+=\u001b[0m \u001b[0;36m1\u001b[0m\u001b[0;34m\u001b[0m\u001b[0;34m\u001b[0m\u001b[0m\n\u001b[1;32m    523\u001b[0m             \u001b[0;32mif\u001b[0m \u001b[0mself\u001b[0m\u001b[0;34m.\u001b[0m\u001b[0m_dataset_kind\u001b[0m \u001b[0;34m==\u001b[0m \u001b[0m_DatasetKind\u001b[0m\u001b[0;34m.\u001b[0m\u001b[0mIterable\u001b[0m \u001b[0;32mand\u001b[0m\u001b[0;31m \u001b[0m\u001b[0;31m\\\u001b[0m\u001b[0;34m\u001b[0m\u001b[0;34m\u001b[0m\u001b[0m\n",
      "\u001b[0;32m~/DataScience/data/lib/python3.8/site-packages/torch/utils/data/dataloader.py\u001b[0m in \u001b[0;36m_next_data\u001b[0;34m(self)\u001b[0m\n\u001b[1;32m    558\u001b[0m \u001b[0;34m\u001b[0m\u001b[0m\n\u001b[1;32m    559\u001b[0m     \u001b[0;32mdef\u001b[0m \u001b[0m_next_data\u001b[0m\u001b[0;34m(\u001b[0m\u001b[0mself\u001b[0m\u001b[0;34m)\u001b[0m\u001b[0;34m:\u001b[0m\u001b[0;34m\u001b[0m\u001b[0;34m\u001b[0m\u001b[0m\n\u001b[0;32m--> 560\u001b[0;31m         \u001b[0mindex\u001b[0m \u001b[0;34m=\u001b[0m \u001b[0mself\u001b[0m\u001b[0;34m.\u001b[0m\u001b[0m_next_index\u001b[0m\u001b[0;34m(\u001b[0m\u001b[0;34m)\u001b[0m  \u001b[0;31m# may raise StopIteration\u001b[0m\u001b[0;34m\u001b[0m\u001b[0;34m\u001b[0m\u001b[0m\n\u001b[0m\u001b[1;32m    561\u001b[0m         \u001b[0mdata\u001b[0m \u001b[0;34m=\u001b[0m \u001b[0mself\u001b[0m\u001b[0;34m.\u001b[0m\u001b[0m_dataset_fetcher\u001b[0m\u001b[0;34m.\u001b[0m\u001b[0mfetch\u001b[0m\u001b[0;34m(\u001b[0m\u001b[0mindex\u001b[0m\u001b[0;34m)\u001b[0m  \u001b[0;31m# may raise StopIteration\u001b[0m\u001b[0;34m\u001b[0m\u001b[0;34m\u001b[0m\u001b[0m\n\u001b[1;32m    562\u001b[0m         \u001b[0;32mif\u001b[0m \u001b[0mself\u001b[0m\u001b[0;34m.\u001b[0m\u001b[0m_pin_memory\u001b[0m\u001b[0;34m:\u001b[0m\u001b[0;34m\u001b[0m\u001b[0;34m\u001b[0m\u001b[0m\n",
      "\u001b[0;32m~/DataScience/data/lib/python3.8/site-packages/torch/utils/data/dataloader.py\u001b[0m in \u001b[0;36m_next_index\u001b[0;34m(self)\u001b[0m\n\u001b[1;32m    510\u001b[0m \u001b[0;34m\u001b[0m\u001b[0m\n\u001b[1;32m    511\u001b[0m     \u001b[0;32mdef\u001b[0m \u001b[0m_next_index\u001b[0m\u001b[0;34m(\u001b[0m\u001b[0mself\u001b[0m\u001b[0;34m)\u001b[0m\u001b[0;34m:\u001b[0m\u001b[0;34m\u001b[0m\u001b[0;34m\u001b[0m\u001b[0m\n\u001b[0;32m--> 512\u001b[0;31m         \u001b[0;32mreturn\u001b[0m \u001b[0mnext\u001b[0m\u001b[0;34m(\u001b[0m\u001b[0mself\u001b[0m\u001b[0;34m.\u001b[0m\u001b[0m_sampler_iter\u001b[0m\u001b[0;34m)\u001b[0m  \u001b[0;31m# may raise StopIteration\u001b[0m\u001b[0;34m\u001b[0m\u001b[0;34m\u001b[0m\u001b[0m\n\u001b[0m\u001b[1;32m    513\u001b[0m \u001b[0;34m\u001b[0m\u001b[0m\n\u001b[1;32m    514\u001b[0m     \u001b[0;32mdef\u001b[0m \u001b[0m_next_data\u001b[0m\u001b[0;34m(\u001b[0m\u001b[0mself\u001b[0m\u001b[0;34m)\u001b[0m\u001b[0;34m:\u001b[0m\u001b[0;34m\u001b[0m\u001b[0;34m\u001b[0m\u001b[0m\n",
      "\u001b[0;32m~/DataScience/data/lib/python3.8/site-packages/torch/utils/data/sampler.py\u001b[0m in \u001b[0;36m__iter__\u001b[0;34m(self)\u001b[0m\n\u001b[1;32m    227\u001b[0m     \u001b[0;32mdef\u001b[0m \u001b[0m__iter__\u001b[0m\u001b[0;34m(\u001b[0m\u001b[0mself\u001b[0m\u001b[0;34m)\u001b[0m \u001b[0;34m->\u001b[0m \u001b[0mIterator\u001b[0m\u001b[0;34m[\u001b[0m\u001b[0mList\u001b[0m\u001b[0;34m[\u001b[0m\u001b[0mint\u001b[0m\u001b[0;34m]\u001b[0m\u001b[0;34m]\u001b[0m\u001b[0;34m:\u001b[0m\u001b[0;34m\u001b[0m\u001b[0;34m\u001b[0m\u001b[0m\n\u001b[1;32m    228\u001b[0m         \u001b[0mbatch\u001b[0m \u001b[0;34m=\u001b[0m \u001b[0;34m[\u001b[0m\u001b[0;34m]\u001b[0m\u001b[0;34m\u001b[0m\u001b[0;34m\u001b[0m\u001b[0m\n\u001b[0;32m--> 229\u001b[0;31m         \u001b[0;32mfor\u001b[0m \u001b[0midx\u001b[0m \u001b[0;32min\u001b[0m \u001b[0mself\u001b[0m\u001b[0;34m.\u001b[0m\u001b[0msampler\u001b[0m\u001b[0;34m:\u001b[0m\u001b[0;34m\u001b[0m\u001b[0;34m\u001b[0m\u001b[0m\n\u001b[0m\u001b[1;32m    230\u001b[0m             \u001b[0mbatch\u001b[0m\u001b[0;34m.\u001b[0m\u001b[0mappend\u001b[0m\u001b[0;34m(\u001b[0m\u001b[0midx\u001b[0m\u001b[0;34m)\u001b[0m\u001b[0;34m\u001b[0m\u001b[0;34m\u001b[0m\u001b[0m\n\u001b[1;32m    231\u001b[0m             \u001b[0;32mif\u001b[0m \u001b[0mlen\u001b[0m\u001b[0;34m(\u001b[0m\u001b[0mbatch\u001b[0m\u001b[0;34m)\u001b[0m \u001b[0;34m==\u001b[0m \u001b[0mself\u001b[0m\u001b[0;34m.\u001b[0m\u001b[0mbatch_size\u001b[0m\u001b[0;34m:\u001b[0m\u001b[0;34m\u001b[0m\u001b[0;34m\u001b[0m\u001b[0m\n",
      "\u001b[0;32m~/DataScience/data/lib/python3.8/site-packages/torch/utils/data/sampler.py\u001b[0m in \u001b[0;36m__iter__\u001b[0;34m(self)\u001b[0m\n\u001b[1;32m     64\u001b[0m \u001b[0;34m\u001b[0m\u001b[0m\n\u001b[1;32m     65\u001b[0m     \u001b[0;32mdef\u001b[0m \u001b[0m__iter__\u001b[0m\u001b[0;34m(\u001b[0m\u001b[0mself\u001b[0m\u001b[0;34m)\u001b[0m \u001b[0;34m->\u001b[0m \u001b[0mIterator\u001b[0m\u001b[0;34m[\u001b[0m\u001b[0mint\u001b[0m\u001b[0;34m]\u001b[0m\u001b[0;34m:\u001b[0m\u001b[0;34m\u001b[0m\u001b[0;34m\u001b[0m\u001b[0m\n\u001b[0;32m---> 66\u001b[0;31m         \u001b[0;32mreturn\u001b[0m \u001b[0miter\u001b[0m\u001b[0;34m(\u001b[0m\u001b[0mrange\u001b[0m\u001b[0;34m(\u001b[0m\u001b[0mlen\u001b[0m\u001b[0;34m(\u001b[0m\u001b[0mself\u001b[0m\u001b[0;34m.\u001b[0m\u001b[0mdata_source\u001b[0m\u001b[0;34m)\u001b[0m\u001b[0;34m)\u001b[0m\u001b[0;34m)\u001b[0m\u001b[0;34m\u001b[0m\u001b[0;34m\u001b[0m\u001b[0m\n\u001b[0m\u001b[1;32m     67\u001b[0m \u001b[0;34m\u001b[0m\u001b[0m\n\u001b[1;32m     68\u001b[0m     \u001b[0;32mdef\u001b[0m \u001b[0m__len__\u001b[0m\u001b[0;34m(\u001b[0m\u001b[0mself\u001b[0m\u001b[0;34m)\u001b[0m \u001b[0;34m->\u001b[0m \u001b[0mint\u001b[0m\u001b[0;34m:\u001b[0m\u001b[0;34m\u001b[0m\u001b[0;34m\u001b[0m\u001b[0m\n",
      "\u001b[0;32m/tmp/ipykernel_23694/137170590.py\u001b[0m in \u001b[0;36m__len__\u001b[0;34m(self)\u001b[0m\n\u001b[1;32m      6\u001b[0m \u001b[0;34m\u001b[0m\u001b[0m\n\u001b[1;32m      7\u001b[0m     \u001b[0;32mdef\u001b[0m \u001b[0m__len__\u001b[0m\u001b[0;34m(\u001b[0m\u001b[0mself\u001b[0m\u001b[0;34m)\u001b[0m\u001b[0;34m:\u001b[0m\u001b[0;34m\u001b[0m\u001b[0;34m\u001b[0m\u001b[0m\n\u001b[0;32m----> 8\u001b[0;31m         \u001b[0;32mreturn\u001b[0m \u001b[0mlen\u001b[0m\u001b[0;34m(\u001b[0m\u001b[0mself\u001b[0m\u001b[0;34m.\u001b[0m\u001b[0mcsv_file\u001b[0m\u001b[0;34m)\u001b[0m\u001b[0;34m\u001b[0m\u001b[0;34m\u001b[0m\u001b[0m\n\u001b[0m\u001b[1;32m      9\u001b[0m \u001b[0;34m\u001b[0m\u001b[0m\n\u001b[1;32m     10\u001b[0m     \u001b[0;32mdef\u001b[0m \u001b[0m__getitem__\u001b[0m\u001b[0;34m(\u001b[0m\u001b[0mself\u001b[0m\u001b[0;34m,\u001b[0m \u001b[0mindex\u001b[0m\u001b[0;34m)\u001b[0m\u001b[0;34m:\u001b[0m\u001b[0;34m\u001b[0m\u001b[0;34m\u001b[0m\u001b[0m\n",
      "\u001b[0;31mTypeError\u001b[0m: object of type 'ToTensor' has no len()"
     ]
    }
   ],
   "source": [
    "pred = []\n",
    "for image_id, images in enumerate(sample_submission_dataloader):\n",
    "    y_preds = model(images)\n",
    "    _, y_preds_labels = np.round(y_preds)\n",
    "    pred.extend(y_preds.numpy())"
   ]
  },
  {
   "cell_type": "code",
   "execution_count": null,
   "metadata": {},
   "outputs": [],
   "source": [
    "pred = np.ravel(pred)"
   ]
  },
  {
   "cell_type": "code",
   "execution_count": null,
   "metadata": {},
   "outputs": [],
   "source": [
    "sample_submission_df[1] = pred\n",
    "sample_submission_df.to_csv('sample_submission.csv', header = None, index = None)"
   ]
  }
 ],
 "metadata": {
  "interpreter": {
   "hash": "4fcf79c33207d68f8e9e67e93bec9bc289b93b0566805e98bf31d2d063211adb"
  },
  "kernelspec": {
   "display_name": "Python 3.8.10 64-bit ('data': venv)",
   "language": "python",
   "name": "python3"
  },
  "language_info": {
   "codemirror_mode": {
    "name": "ipython",
    "version": 3
   },
   "file_extension": ".py",
   "mimetype": "text/x-python",
   "name": "python",
   "nbconvert_exporter": "python",
   "pygments_lexer": "ipython3",
   "version": "3.8.10"
  },
  "orig_nbformat": 4
 },
 "nbformat": 4,
 "nbformat_minor": 2
}
