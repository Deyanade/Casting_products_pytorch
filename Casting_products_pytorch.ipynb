{
 "cells": [
  {
   "cell_type": "code",
   "execution_count": 65,
   "metadata": {},
   "outputs": [],
   "source": [
    "import os\n",
    "import zipfile\n",
    "import pandas as pd\n",
    "import numpy as np\n",
    "import matplotlib.pyplot as plt\n",
    "import torch\n",
    "import torchvision\n",
    "import torch.optim as optim\n",
    "import torch.nn.functional as F\n",
    "import time\n",
    "\n",
    "from PIL import Image, ImageFilter\n",
    "from sklearn.model_selection import train_test_split\n",
    "from torch import nn\n",
    "from torch.optim import Adam\n",
    "from torch.utils.data import Dataset, DataLoader\n",
    "from torch.autograd import Variable\n",
    "from torchvision import transforms\n",
    "from pathlib import Path\n",
    "from tqdm import tqdm\n",
    "from sklearn.metrics import cohen_kappa_score"
   ]
  },
  {
   "cell_type": "code",
   "execution_count": 66,
   "metadata": {},
   "outputs": [],
   "source": [
    "def unzip_dataset(INPATH, OUTPATH):\n",
    "    with zipfile.ZipFile(INPATH) as zf:\n",
    "        zf.extractall(OUTPATH)\n",
    "    \n",
    "unzip_dataset(INPATH = './train_data.zip', OUTPATH = './')\n",
    "unzip_dataset(INPATH = './test_data.zip', OUTPATH = './')"
   ]
  },
  {
   "cell_type": "code",
   "execution_count": 67,
   "metadata": {},
   "outputs": [],
   "source": [
    "train_dir = '../Casting_products_pytorch/train_data/'\n",
    "test_dir = '../Casting_products_pytorch/test_data/'\n",
    "train_df = pd.read_csv('../Casting_products_pytorch/train.csv')"
   ]
  },
  {
   "cell_type": "code",
   "execution_count": 68,
   "metadata": {},
   "outputs": [],
   "source": [
    "train_df, val_df = train_test_split(np.array(train_df), test_size=0.1)"
   ]
  },
  {
   "cell_type": "code",
   "execution_count": 69,
   "metadata": {},
   "outputs": [],
   "source": [
    "transform = torchvision.transforms.ToTensor()"
   ]
  },
  {
   "cell_type": "code",
   "execution_count": 70,
   "metadata": {},
   "outputs": [],
   "source": [
    "class Casting_products_Datasets(Dataset):\n",
    "    def __init__(self, dir_name, csv_file, transform=None):\n",
    "        self.dir_name = dir_name\n",
    "        self.csv_file = csv_file\n",
    "        self.transform = transform\n",
    "\n",
    "    def __len__(self):\n",
    "        return len(self.csv_file)\n",
    "    \n",
    "    def __getitem__(self, index):\n",
    "        file = self.csv_file[index][0]\n",
    "        label = np.array([self.csv_file[index][1]], np.float32)\n",
    "        image = Image.open(self.dir_name + file)\n",
    "        image = self.transform(image)\n",
    "\n",
    "        return image, label"
   ]
  },
  {
   "cell_type": "code",
   "execution_count": 71,
   "metadata": {},
   "outputs": [],
   "source": [
    "train_dataset = Casting_products_Datasets(train_dir, train_df, transform)\n",
    "val_dataset = Casting_products_Datasets(train_dir, val_df, transform)"
   ]
  },
  {
   "cell_type": "code",
   "execution_count": 72,
   "metadata": {},
   "outputs": [],
   "source": [
    "batch_size = 25"
   ]
  },
  {
   "cell_type": "code",
   "execution_count": 73,
   "metadata": {},
   "outputs": [],
   "source": [
    "train_dataloader = DataLoader(train_dataset, batch_size=batch_size, shuffle=True, drop_last=True)\n",
    "val_dataloader = DataLoader(val_dataset, batch_size=batch_size, shuffle=False, drop_last=True)"
   ]
  },
  {
   "cell_type": "code",
   "execution_count": 74,
   "metadata": {},
   "outputs": [],
   "source": [
    "class EarlyStopping:\n",
    "\n",
    "    def __init__(self, patience=5, verbose=False, path='../Casting_products_pytorch/checkpoint_model.pth'):\n",
    "\n",
    "        self.patience = patience\n",
    "        self.verbose = verbose\n",
    "        self.counter = 0\n",
    "        self.best_score = None\n",
    "        self.early_stop = False\n",
    "        self.val_loss_min = np.inf\n",
    "        self.path = path\n",
    "    \n",
    "    def __call__(self, val_loss, model):\n",
    "\n",
    "        score = -val_loss\n",
    "\n",
    "        if self.best_score is None:\n",
    "            self.best_score = score\n",
    "            self.checkpoint(val_loss, model)\n",
    "        elif score < self.best_score:\n",
    "            self.counter += 1\n",
    "            if self.verbose:\n",
    "                print(f'   EarlyStopping counter: {self.counter} out of {self.patience}')\n",
    "            if self.counter >= self.patience:\n",
    "                self.early_stop = True\n",
    "        else:\n",
    "            self.best_score = score\n",
    "            self.checkpoint(val_loss, model)\n",
    "            self.counter = 0\n",
    "    \n",
    "    def checkpoint(self, val_loss, model):\n",
    "        if self.verbose:\n",
    "            print(f'   Validation loss decreased ({self.val_loss_min:.6f} --> {val_loss:.6f}). Saving model ...')\n",
    "        torch.save(model.state_dict(), self.path)\n",
    "        self.val_loss_min = val_loss\n",
    "                "
   ]
  },
  {
   "cell_type": "code",
   "execution_count": 75,
   "metadata": {},
   "outputs": [],
   "source": [
    "class Network(nn.Module):\n",
    "    def __init__(self):\n",
    "        \n",
    "        super(Network, self).__init__()\n",
    "\n",
    "        self.conv1 = nn.Conv2d(in_channels=3, out_channels=12, kernel_size=5, stride=1, padding=1)\n",
    "        self.bn1 = nn.BatchNorm2d(12)\n",
    "        self.conv2 = nn.Conv2d(in_channels=12, out_channels=12, kernel_size=5, stride=1, padding=1)\n",
    "        self.bn2 = nn.BatchNorm2d(num_features=12)\n",
    "        self.pool = nn.MaxPool2d(2, 2)\n",
    "        self.conv4 = nn.Conv2d(in_channels=12, out_channels=24, kernel_size=5, stride=1, padding=1)\n",
    "        self.bn4 = nn.BatchNorm2d(num_features=24)\n",
    "        self.conv5 = nn.Conv2d(in_channels=24, out_channels=24, kernel_size=5, stride=1, padding=1)\n",
    "        self.bn5 = nn.BatchNorm2d(num_features=24)\n",
    "        self.fc1 = nn.Linear(24*71*71, 128)\n",
    "        self.fc2 = nn.Linear(128, 48)\n",
    "        self.fc3 = nn.Linear(48, 1)\n",
    "    \n",
    "    def forward(self, x):\n",
    "        \n",
    "        x = F.relu(self.bn1(self.conv1(x)))\n",
    "        x = F.relu(self.bn2(self.conv2(x)))\n",
    "        x = self.pool(x)\n",
    "        x = F.relu(self.bn4(self.conv4(x)))\n",
    "        x = self.pool(x)\n",
    "        x = F.relu(self.bn5(self.conv5(x)))\n",
    "        x = x.view(-1, 24*71*71)\n",
    "        x = F.relu(self.fc1(x))\n",
    "        x = F.relu(self.fc2(x))\n",
    "        x = torch.sigmoid(self.fc3(x))\n",
    "\n",
    "        return x\n",
    "    \n",
    "model = Network()"
   ]
  },
  {
   "cell_type": "code",
   "execution_count": 76,
   "metadata": {},
   "outputs": [],
   "source": [
    "lr = 1e-4\n",
    "criterion = nn.BCELoss()\n",
    "optimizer = Adam(model.parameters(), lr=lr)"
   ]
  },
  {
   "cell_type": "code",
   "execution_count": 77,
   "metadata": {},
   "outputs": [],
   "source": [
    "train_images, train_labels = iter(train_dataloader).next()\n",
    "val_images, val_labels = iter(val_dataloader).next()"
   ]
  },
  {
   "cell_type": "code",
   "execution_count": 78,
   "metadata": {},
   "outputs": [],
   "source": [
    "earlystopping = EarlyStopping(patience=5, verbose=True)"
   ]
  },
  {
   "cell_type": "code",
   "execution_count": 79,
   "metadata": {},
   "outputs": [],
   "source": [
    "def train(train_dataloader):\n",
    "\n",
    "    model.train()\n",
    "    running_loss = 0\n",
    "    \n",
    "    for train_images, train_labels in train_dataloader:\n",
    "        optimizer.zero_grad()\n",
    "        y_preds = model(train_images)\n",
    "        loss = criterion(y_preds, train_labels)\n",
    "        running_loss += loss.item()\n",
    "        loss.backward()\n",
    "        optimizer.step()\n",
    "    train_loss = running_loss / len(train_dataloader)\n",
    "    \n",
    "    return train_loss\n",
    "\n",
    "def val(val_dataloader):\n",
    "    model.eval()\n",
    "    running_loss = 0\n",
    "    correct = 0\n",
    "    total = 0\n",
    "    with torch.no_grad():\n",
    "        for val_images, val_labels in val_dataloader:\n",
    "            y_preds = model(val_images)\n",
    "            loss = criterion(y_preds, val_labels)\n",
    "            running_loss += loss.item()\n",
    "            result = torch.round(y_preds)\n",
    "            correct += torch.sum(result == val_labels) * 1.0\n",
    "            total += val_labels.size(0)\n",
    "    val_loss = running_loss / len(val_dataloader)\n",
    "    val_acc = correct / total\n",
    "\n",
    "    return val_loss, val_acc"
   ]
  },
  {
   "cell_type": "code",
   "execution_count": 80,
   "metadata": {},
   "outputs": [],
   "source": [
    "record_loss_train = []\n",
    "record_loss_val = []\n",
    "record_acc_val =[]\n",
    "num_epochs = 50"
   ]
  },
  {
   "cell_type": "code",
   "execution_count": 81,
   "metadata": {},
   "outputs": [
    {
     "name": "stdout",
     "output_type": "stream",
     "text": [
      "epoch 0, loss: 0.6810 ...  val_loss: 0.6631 ...  val_acc: 0.6000 ...\n",
      "   Validation loss decreased (inf --> 0.663073). Saving model ...\n",
      "epoch 1, loss: 0.3646 ...  val_loss: 0.8802 ...  val_acc: 0.6000 ...\n",
      "   EarlyStopping counter: 1 out of 5\n",
      "epoch 2, loss: 0.2570 ...  val_loss: 1.1976 ...  val_acc: 0.6000 ...\n",
      "   EarlyStopping counter: 2 out of 5\n",
      "epoch 3, loss: 0.1964 ...  val_loss: 1.1933 ...  val_acc: 0.6000 ...\n",
      "   EarlyStopping counter: 3 out of 5\n",
      "epoch 4, loss: 0.1155 ...  val_loss: 0.9377 ...  val_acc: 0.6000 ...\n",
      "   EarlyStopping counter: 4 out of 5\n",
      "epoch 5, loss: 0.0764 ...  val_loss: 0.3472 ...  val_acc: 0.7600 ...\n",
      "   Validation loss decreased (0.663073 --> 0.347209). Saving model ...\n",
      "epoch 6, loss: 0.0488 ...  val_loss: 0.4514 ...  val_acc: 0.8000 ...\n",
      "   EarlyStopping counter: 1 out of 5\n",
      "epoch 7, loss: 0.0454 ...  val_loss: 0.1690 ...  val_acc: 0.9200 ...\n",
      "   Validation loss decreased (0.347209 --> 0.169010). Saving model ...\n",
      "epoch 8, loss: 0.0315 ...  val_loss: 0.1486 ...  val_acc: 0.9600 ...\n",
      "   Validation loss decreased (0.169010 --> 0.148560). Saving model ...\n",
      "epoch 9, loss: 0.0243 ...  val_loss: 0.1099 ...  val_acc: 1.0000 ...\n",
      "   Validation loss decreased (0.148560 --> 0.109920). Saving model ...\n",
      "epoch 10, loss: 0.0220 ...  val_loss: 0.4731 ...  val_acc: 0.7600 ...\n",
      "   EarlyStopping counter: 1 out of 5\n",
      "epoch 11, loss: 0.0265 ...  val_loss: 0.2235 ...  val_acc: 0.9200 ...\n",
      "   EarlyStopping counter: 2 out of 5\n",
      "epoch 12, loss: 0.0126 ...  val_loss: 0.1121 ...  val_acc: 1.0000 ...\n",
      "   EarlyStopping counter: 3 out of 5\n",
      "epoch 13, loss: 0.0153 ...  val_loss: 0.1032 ...  val_acc: 0.9600 ...\n",
      "   Validation loss decreased (0.109920 --> 0.103227). Saving model ...\n",
      "epoch 14, loss: 0.0138 ...  val_loss: 0.2036 ...  val_acc: 0.8400 ...\n",
      "   EarlyStopping counter: 1 out of 5\n",
      "epoch 15, loss: 0.0091 ...  val_loss: 0.0921 ...  val_acc: 1.0000 ...\n",
      "   Validation loss decreased (0.103227 --> 0.092135). Saving model ...\n",
      "epoch 16, loss: 0.0063 ...  val_loss: 0.0968 ...  val_acc: 0.9600 ...\n",
      "   EarlyStopping counter: 1 out of 5\n",
      "epoch 17, loss: 0.0051 ...  val_loss: 0.0948 ...  val_acc: 1.0000 ...\n",
      "   EarlyStopping counter: 2 out of 5\n",
      "epoch 18, loss: 0.0043 ...  val_loss: 0.0796 ...  val_acc: 1.0000 ...\n",
      "   Validation loss decreased (0.092135 --> 0.079571). Saving model ...\n",
      "epoch 19, loss: 0.0046 ...  val_loss: 0.0725 ...  val_acc: 1.0000 ...\n",
      "   Validation loss decreased (0.079571 --> 0.072537). Saving model ...\n",
      "epoch 20, loss: 0.0033 ...  val_loss: 0.0884 ...  val_acc: 1.0000 ...\n",
      "   EarlyStopping counter: 1 out of 5\n",
      "epoch 21, loss: 0.0031 ...  val_loss: 0.0744 ...  val_acc: 1.0000 ...\n",
      "   EarlyStopping counter: 2 out of 5\n",
      "epoch 22, loss: 0.0026 ...  val_loss: 0.0714 ...  val_acc: 1.0000 ...\n",
      "   Validation loss decreased (0.072537 --> 0.071392). Saving model ...\n",
      "epoch 23, loss: 0.0022 ...  val_loss: 0.0854 ...  val_acc: 1.0000 ...\n",
      "   EarlyStopping counter: 1 out of 5\n",
      "epoch 24, loss: 0.0023 ...  val_loss: 0.0816 ...  val_acc: 1.0000 ...\n",
      "   EarlyStopping counter: 2 out of 5\n",
      "epoch 25, loss: 0.0022 ...  val_loss: 0.0712 ...  val_acc: 1.0000 ...\n",
      "   Validation loss decreased (0.071392 --> 0.071196). Saving model ...\n",
      "epoch 26, loss: 0.0022 ...  val_loss: 0.0843 ...  val_acc: 1.0000 ...\n",
      "   EarlyStopping counter: 1 out of 5\n",
      "epoch 27, loss: 0.0016 ...  val_loss: 0.0746 ...  val_acc: 1.0000 ...\n",
      "   EarlyStopping counter: 2 out of 5\n",
      "epoch 28, loss: 0.0018 ...  val_loss: 0.0681 ...  val_acc: 1.0000 ...\n",
      "   Validation loss decreased (0.071196 --> 0.068114). Saving model ...\n",
      "epoch 29, loss: 0.0014 ...  val_loss: 0.0755 ...  val_acc: 1.0000 ...\n",
      "   EarlyStopping counter: 1 out of 5\n",
      "epoch 30, loss: 0.0021 ...  val_loss: 0.0656 ...  val_acc: 1.0000 ...\n",
      "   Validation loss decreased (0.068114 --> 0.065562). Saving model ...\n",
      "epoch 31, loss: 0.0015 ...  val_loss: 0.0733 ...  val_acc: 1.0000 ...\n",
      "   EarlyStopping counter: 1 out of 5\n",
      "epoch 32, loss: 0.0012 ...  val_loss: 0.0702 ...  val_acc: 1.0000 ...\n",
      "   EarlyStopping counter: 2 out of 5\n",
      "epoch 33, loss: 0.0012 ...  val_loss: 0.0714 ...  val_acc: 1.0000 ...\n",
      "   EarlyStopping counter: 3 out of 5\n",
      "epoch 34, loss: 0.0013 ...  val_loss: 0.0634 ...  val_acc: 1.0000 ...\n",
      "   Validation loss decreased (0.065562 --> 0.063411). Saving model ...\n",
      "epoch 35, loss: 0.0009 ...  val_loss: 0.0687 ...  val_acc: 1.0000 ...\n",
      "   EarlyStopping counter: 1 out of 5\n",
      "epoch 36, loss: 0.0010 ...  val_loss: 0.0688 ...  val_acc: 1.0000 ...\n",
      "   EarlyStopping counter: 2 out of 5\n",
      "epoch 37, loss: 0.0010 ...  val_loss: 0.0636 ...  val_acc: 1.0000 ...\n",
      "   EarlyStopping counter: 3 out of 5\n",
      "epoch 38, loss: 0.0009 ...  val_loss: 0.0668 ...  val_acc: 1.0000 ...\n",
      "   EarlyStopping counter: 4 out of 5\n",
      "epoch 39, loss: 0.0008 ...  val_loss: 0.0673 ...  val_acc: 1.0000 ...\n",
      "   EarlyStopping counter: 5 out of 5\n",
      "Early Stopping!\n"
     ]
    }
   ],
   "source": [
    "for epoch in range(num_epochs):\n",
    "    loss= train(train_dataloader)\n",
    "    val_loss, val_acc = val(val_dataloader)\n",
    "    print('epoch %d, loss: %.4f ...  val_loss: %.4f ...  val_acc: %.4f ...' % (epoch, loss, val_loss, val_acc))\n",
    "    \n",
    "    record_loss_train.append(loss)\n",
    "    record_loss_val.append(val_loss)\n",
    "    record_acc_val.append(val_acc)\n",
    "\n",
    "    earlystopping(val_loss, model)\n",
    "    if earlystopping.early_stop:\n",
    "        print(\"Early Stopping!\")\n",
    "        break"
   ]
  },
  {
   "cell_type": "code",
   "execution_count": 82,
   "metadata": {},
   "outputs": [
    {
     "data": {
      "text/plain": [
       "<All keys matched successfully>"
      ]
     },
     "execution_count": 82,
     "metadata": {},
     "output_type": "execute_result"
    }
   ],
   "source": [
    "model.load_state_dict(torch.load('../Casting_products_pytorch/checkpoint_model.pth'))"
   ]
  },
  {
   "cell_type": "code",
   "execution_count": 83,
   "metadata": {},
   "outputs": [
    {
     "data": {
      "image/png": "[encoded data removed]",
      "text/plain": [
       "<Figure size 432x288 with 1 Axes>"
      ]
     },
     "metadata": {
      "needs_background": "light"
     },
     "output_type": "display_data"
    }
   ],
   "source": [
    "plt.plot(range(len(record_loss_train)), record_loss_train, label=\"Train\")\n",
    "plt.plot(range(len(record_loss_val)), record_loss_val, label=\"Test\")\n",
    "plt.legend()\n",
    "\n",
    "plt.xlabel(\"Epochs\")\n",
    "plt.ylabel(\"Error\")\n",
    "plt.show()"
   ]
  },
  {
   "cell_type": "code",
   "execution_count": 95,
   "metadata": {},
   "outputs": [],
   "source": [
    "test_df = pd.read_csv('sample_submission.csv', header=None, names=['id', 'target'])\n",
    "test_df2 = np.array(test_df)"
   ]
  },
  {
   "cell_type": "code",
   "execution_count": 96,
   "metadata": {},
   "outputs": [],
   "source": [
    "class test_Datasets(Dataset):\n",
    "    def __init__(self, dir_name, csv_file, transform=None):\n",
    "        self.dir_name = dir_name\n",
    "        self.csv_file = csv_file\n",
    "        self.transform = transform\n",
    "\n",
    "    def __len__(self):\n",
    "        return len(self.csv_file)\n",
    "    \n",
    "    def __getitem__(self, index):\n",
    "        file = self.csv_file[index][0]\n",
    "        image = Image.open(self.dir_name + file)\n",
    "        image = self.transform(image)\n",
    "\n",
    "        return image"
   ]
  },
  {
   "cell_type": "code",
   "execution_count": 97,
   "metadata": {},
   "outputs": [],
   "source": [
    "test_dataset = test_Datasets(test_dir, test_df2, transform)"
   ]
  },
  {
   "cell_type": "code",
   "execution_count": 98,
   "metadata": {},
   "outputs": [],
   "source": [
    "test_dataloader = DataLoader(test_dataset, batch_size=1, shuffle=False)"
   ]
  },
  {
   "cell_type": "code",
   "execution_count": 99,
   "metadata": {},
   "outputs": [],
   "source": [
    "test_images = iter(test_dataloader).next()"
   ]
  },
  {
   "cell_type": "code",
   "execution_count": 100,
   "metadata": {},
   "outputs": [],
   "source": [
    "pred = []\n",
    "\n",
    "model.eval()\n",
    "with torch.no_grad():\n",
    "    for sample_submission_images in test_dataloader:\n",
    "        pred.append(torch.round(model(sample_submission_images)).tolist())"
   ]
  },
  {
   "cell_type": "code",
   "execution_count": 107,
   "metadata": {},
   "outputs": [],
   "source": [
    "pred = np.ravel(pred).astype(int)"
   ]
  },
  {
   "cell_type": "code",
   "execution_count": 109,
   "metadata": {},
   "outputs": [],
   "source": [
    "test_df['target'] = pred"
   ]
  },
  {
   "cell_type": "code",
   "execution_count": 111,
   "metadata": {},
   "outputs": [],
   "source": [
    "test_df.to_csv('sample_submission.csv', header = None, index = None)"
   ]
  }
 ],
 "metadata": {
  "interpreter": {
   "hash": "4fcf79c33207d68f8e9e67e93bec9bc289b93b0566805e98bf31d2d063211adb"
  },
  "kernelspec": {
   "display_name": "Python 3.8.10 64-bit ('data': venv)",
   "language": "python",
   "name": "python3"
  },
  "language_info": {
   "codemirror_mode": {
    "name": "ipython",
    "version": 3
   },
   "file_extension": ".py",
   "mimetype": "text/x-python",
   "name": "python",
   "nbconvert_exporter": "python",
   "pygments_lexer": "ipython3",
   "version": "3.8.10"
  },
  "orig_nbformat": 4
 },
 "nbformat": 4,
 "nbformat_minor": 2
}
